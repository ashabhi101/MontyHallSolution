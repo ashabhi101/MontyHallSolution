{
 "cells": [
  {
   "cell_type": "code",
   "execution_count": 1,
   "metadata": {},
   "outputs": [],
   "source": [
    "import numpy as np"
   ]
  },
  {
   "cell_type": "code",
   "execution_count": 2,
   "metadata": {},
   "outputs": [
    {
     "name": "stdout",
     "output_type": "stream",
     "text": [
      "Enter number of trials to run:10000\n",
      "Enter 0 for no switching and 1 if you want to switch:0\n"
     ]
    }
   ],
   "source": [
    "trials=int(input('Enter number of trials to run:'))\n",
    "switch = int(input('Enter 0 for no switching and 1 if you want to switch:'))"
   ]
  },
  {
   "cell_type": "code",
   "execution_count": 3,
   "metadata": {},
   "outputs": [],
   "source": [
    "doors = [\"A\", \"B\", \"C\"]\n",
    "np.random.seed(0)\n",
    "# the prize is in this door\n",
    "prize = []\n",
    "for i in range(trials):\n",
    "    prize.append(np.random.choice(doors))"
   ]
  },
  {
   "cell_type": "code",
   "execution_count": 4,
   "metadata": {},
   "outputs": [],
   "source": [
    "## Now you are picking a door, choices are saved to userchoice"
   ]
  },
  {
   "cell_type": "code",
   "execution_count": 5,
   "metadata": {},
   "outputs": [
    {
     "data": {
      "text/plain": [
       "'userchoice = []\\nfor i in range(0,trials):\\n    userchoice.append(np.random.choice(doors))'"
      ]
     },
     "execution_count": 5,
     "metadata": {},
     "output_type": "execute_result"
    }
   ],
   "source": [
    "'''userchoice = []\n",
    "for i in range(0,trials):\n",
    "    userchoice.append(np.random.choice(doors))'''"
   ]
  },
  {
   "cell_type": "code",
   "execution_count": 6,
   "metadata": {},
   "outputs": [],
   "source": [
    "userchoice = [\"A\"]*trials"
   ]
  },
  {
   "cell_type": "code",
   "execution_count": 7,
   "metadata": {},
   "outputs": [],
   "source": [
    "revealed, unrevealed= [], []\n",
    "for i in range(trials):\n",
    "    a= prize[i]\n",
    "    b =userchoice[i]\n",
    "    temp=[]\n",
    "    if prize[i] == userchoice[i]:\n",
    "        temp = list(set(doors)-set(a))\n",
    "        revealed.append(temp[1])\n",
    "        unrevealed.append(temp[0])\n",
    "    else:\n",
    "        temp = list(set(doors)-set(a)-set(b))\n",
    "        revealed.append(temp[0])\n",
    "        unrevealed.append(prize[i])   "
   ]
  },
  {
   "cell_type": "code",
   "execution_count": 8,
   "metadata": {},
   "outputs": [
    {
     "name": "stdout",
     "output_type": "stream",
     "text": [
      "You win 3347 times and you made a bad choice in terms of probability\n"
     ]
    }
   ],
   "source": [
    "win, lose = 0,0\n",
    "for i in range(trials):\n",
    "    if switch == 0:\n",
    "        if prize[i] == userchoice[i]:\n",
    "            win+=1\n",
    "        else:\n",
    "            lose+=1\n",
    "    if switch ==1:\n",
    "        if prize[i] == userchoice[i]:\n",
    "            lose+=1\n",
    "        else:\n",
    "            win+=1\n",
    "\n",
    "if switch:\n",
    "    print(\"You win\", win,\"times and you made a good choice in terms of probability\")\n",
    "else:\n",
    "    print(\"You win\", win, \"times and you made a bad choice in terms of probability\")"
   ]
  }
 ],
 "metadata": {
  "kernelspec": {
   "display_name": "Python 3",
   "language": "python",
   "name": "python3"
  },
  "language_info": {
   "codemirror_mode": {
    "name": "ipython",
    "version": 3
   },
   "file_extension": ".py",
   "mimetype": "text/x-python",
   "name": "python",
   "nbconvert_exporter": "python",
   "pygments_lexer": "ipython3",
   "version": "3.7.1"
  }
 },
 "nbformat": 4,
 "nbformat_minor": 2
}
